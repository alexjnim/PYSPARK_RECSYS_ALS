{
 "cells": [
  {
   "cell_type": "markdown",
   "metadata": {},
   "source": [
    "In Spark, there is one paritcular recommendation algorithm, Alternating Least Squares (ALS). This algorithm leverages collaborative filtering, which makes recommendations based only on which items users interacted with in the past. That is, it does not require or use any additional features about the users or the items."
   ]
  },
  {
   "cell_type": "code",
   "execution_count": 14,
   "metadata": {},
   "outputs": [],
   "source": [
    "from pyspark.sql.types import *\n",
    "from pyspark.sql import SparkSession\n",
    "from pyspark.sql import functions as f\n",
    "from pyspark.sql.functions import col, expr\n",
    "\n",
    "# select 4 cores to process this\n",
    "spark = SparkSession\\\n",
    "        .builder\\\n",
    "        .appName(\"ALSExample\")\\\n",
    "        .config(\"spark.executor.cores\", '4')\\\n",
    "        .getOrCreate()"
   ]
  },
  {
   "cell_type": "markdown",
   "metadata": {},
   "source": [
    "# Loading data"
   ]
  },
  {
   "cell_type": "code",
   "execution_count": 46,
   "metadata": {},
   "outputs": [
    {
     "name": "stdout",
     "output_type": "stream",
     "text": [
      "root\n",
      " |-- userId: integer (nullable = true)\n",
      " |-- movieId: integer (nullable = true)\n",
      " |-- rating: double (nullable = true)\n",
      " |-- timestamp: timestamp (nullable = true)\n",
      "\n"
     ]
    }
   ],
   "source": [
    "ratings = spark.read.format(\"csv\")\\\n",
    "  .option(\"header\", \"true\")\\\n",
    "  .option(\"inferSchema\", \"true\")\\\n",
    "  .load(\"data/ml-latest-small/ratings.csv\")\n",
    "\n",
    "ratings = ratings.withColumn(\"timestamp\", f.to_timestamp(f.from_unixtime(\"timestamp\")))\n",
    "ratings.printSchema()\n",
    "ratings.createOrReplaceTempView(\"dfTable\")"
   ]
  },
  {
   "cell_type": "code",
   "execution_count": 47,
   "metadata": {},
   "outputs": [
    {
     "name": "stdout",
     "output_type": "stream",
     "text": [
      "+------+-------+------+-------------------+\n",
      "|userId|movieId|rating|          timestamp|\n",
      "+------+-------+------+-------------------+\n",
      "|     1|      1|   4.0|2000-07-30 19:45:03|\n",
      "|     1|      3|   4.0|2000-07-30 19:20:47|\n",
      "|     1|      6|   4.0|2000-07-30 19:37:04|\n",
      "|     1|     47|   5.0|2000-07-30 20:03:35|\n",
      "|     1|     50|   5.0|2000-07-30 19:48:51|\n",
      "|     1|     70|   3.0|2000-07-30 19:40:00|\n",
      "|     1|    101|   5.0|2000-07-30 19:14:28|\n",
      "|     1|    110|   4.0|2000-07-30 19:36:16|\n",
      "|     1|    151|   5.0|2000-07-30 20:07:21|\n",
      "|     1|    157|   5.0|2000-07-30 20:08:20|\n",
      "|     1|    163|   5.0|2000-07-30 20:00:50|\n",
      "|     1|    216|   5.0|2000-07-30 19:20:08|\n",
      "|     1|    223|   3.0|2000-07-30 19:16:25|\n",
      "|     1|    231|   5.0|2000-07-30 19:19:39|\n",
      "|     1|    235|   4.0|2000-07-30 19:15:08|\n",
      "|     1|    260|   5.0|2000-07-30 19:28:00|\n",
      "|     1|    296|   3.0|2000-07-30 19:49:27|\n",
      "|     1|    316|   3.0|2000-07-30 19:38:30|\n",
      "|     1|    333|   5.0|2000-07-30 19:19:39|\n",
      "|     1|    349|   4.0|2000-07-30 19:42:43|\n",
      "+------+-------+------+-------------------+\n",
      "only showing top 20 rows\n",
      "\n"
     ]
    }
   ],
   "source": [
    "ratings.show()"
   ]
  },
  {
   "cell_type": "code",
   "execution_count": 48,
   "metadata": {},
   "outputs": [
    {
     "name": "stdout",
     "output_type": "stream",
     "text": [
      "root\n",
      " |-- movieId: integer (nullable = true)\n",
      " |-- title: string (nullable = true)\n",
      " |-- genres: string (nullable = true)\n",
      "\n"
     ]
    }
   ],
   "source": [
    "movies = spark.read.format(\"csv\")\\\n",
    "  .option(\"header\", \"true\")\\\n",
    "  .option(\"inferSchema\", \"true\")\\\n",
    "  .load(\"data/ml-latest-small/movies.csv\")\n",
    "movies.printSchema()\n",
    "movies.createOrReplaceTempView(\"dfTable\")"
   ]
  },
  {
   "cell_type": "code",
   "execution_count": 49,
   "metadata": {},
   "outputs": [
    {
     "name": "stdout",
     "output_type": "stream",
     "text": [
      "+-------+--------------------+--------------------+\n",
      "|movieID|               title|              genres|\n",
      "+-------+--------------------+--------------------+\n",
      "|      1|    Toy Story (1995)|Adventure|Animati...|\n",
      "|      2|      Jumanji (1995)|Adventure|Childre...|\n",
      "|      3|Grumpier Old Men ...|      Comedy|Romance|\n",
      "|      4|Waiting to Exhale...|Comedy|Drama|Romance|\n",
      "|      5|Father of the Bri...|              Comedy|\n",
      "+-------+--------------------+--------------------+\n",
      "only showing top 5 rows\n",
      "\n"
     ]
    }
   ],
   "source": [
    "movie_names = movies.select(\"movieID\", \"title\", \"genres\")\n",
    "movie_names.show(5)"
   ]
  },
  {
   "cell_type": "markdown",
   "metadata": {},
   "source": [
    "# Exploratory Data Analysis"
   ]
  },
  {
   "cell_type": "code",
   "execution_count": 50,
   "metadata": {},
   "outputs": [
    {
     "data": {
      "text/plain": [
       "100836"
      ]
     },
     "execution_count": 50,
     "metadata": {},
     "output_type": "execute_result"
    }
   ],
   "source": [
    "ratings.count()"
   ]
  },
  {
   "cell_type": "markdown",
   "metadata": {},
   "source": [
    "Movie's with the most ratings"
   ]
  },
  {
   "cell_type": "code",
   "execution_count": 51,
   "metadata": {},
   "outputs": [
    {
     "name": "stdout",
     "output_type": "stream",
     "text": [
      "+-------+----------------------+--------------------+--------------------+\n",
      "|movieID|number of user ratings|               title|              genres|\n",
      "+-------+----------------------+--------------------+--------------------+\n",
      "|    356|                   329| Forrest Gump (1994)|Comedy|Drama|Roma...|\n",
      "|    318|                   317|Shawshank Redempt...|         Crime|Drama|\n",
      "|    296|                   307| Pulp Fiction (1994)|Comedy|Crime|Dram...|\n",
      "|    593|                   279|Silence of the La...|Crime|Horror|Thri...|\n",
      "|   2571|                   278|  Matrix, The (1999)|Action|Sci-Fi|Thr...|\n",
      "|    260|                   251|Star Wars: Episod...|Action|Adventure|...|\n",
      "|    480|                   238|Jurassic Park (1993)|Action|Adventure|...|\n",
      "|    110|                   237|   Braveheart (1995)|    Action|Drama|War|\n",
      "|    589|                   224|Terminator 2: Jud...|       Action|Sci-Fi|\n",
      "|    527|                   220|Schindler's List ...|           Drama|War|\n",
      "|   2959|                   218|   Fight Club (1999)|Action|Crime|Dram...|\n",
      "|      1|                   215|    Toy Story (1995)|Adventure|Animati...|\n",
      "|   1196|                   211|Star Wars: Episod...|Action|Adventure|...|\n",
      "|     50|                   204|Usual Suspects, T...|Crime|Mystery|Thr...|\n",
      "|   2858|                   204|American Beauty (...|       Drama|Romance|\n",
      "|     47|                   203|Seven (a.k.a. Se7...|    Mystery|Thriller|\n",
      "|    780|                   202|Independence Day ...|Action|Adventure|...|\n",
      "|    150|                   201|    Apollo 13 (1995)|Adventure|Drama|IMAX|\n",
      "|   1198|                   200|Raiders of the Lo...|    Action|Adventure|\n",
      "|   4993|                   198|Lord of the Rings...|   Adventure|Fantasy|\n",
      "+-------+----------------------+--------------------+--------------------+\n",
      "only showing top 20 rows\n",
      "\n"
     ]
    }
   ],
   "source": [
    "number_of_ratings = ratings.groupby(\"movieID\").count()\n",
    "\n",
    "joinExpression = number_of_ratings[\"movieID\"] == movie_names['movieID']\n",
    "joinType = \"left\"\n",
    "total_ratings_per_movie = number_of_ratings.join(movie_names, [\"movieID\"], joinType).orderBy(\"count\", ascending=False)\n",
    "total_ratings_per_movie.withColumnRenamed(\"count\", \"number of user ratings\").show()"
   ]
  },
  {
   "cell_type": "markdown",
   "metadata": {},
   "source": [
    "Distribution of rating scores"
   ]
  },
  {
   "cell_type": "code",
   "execution_count": 52,
   "metadata": {},
   "outputs": [
    {
     "data": {
      "text/plain": [
       "<matplotlib.axes._subplots.AxesSubplot at 0x7fc0a880bb50>"
      ]
     },
     "execution_count": 52,
     "metadata": {},
     "output_type": "execute_result"
    },
    {
     "data": {
      "image/png": "[encoded data removed]",
      "text/plain": [
       "<Figure size 432x288 with 1 Axes>"
      ]
     },
     "metadata": {
      "needs_background": "light"
     },
     "output_type": "display_data"
    }
   ],
   "source": [
    "ratings_count = ratings.groupby(\"rating\").count()\n",
    "ratings_count.toPandas().sort_values(by='rating', ascending=True).plot.bar(x='rating', y='count', rot=0)"
   ]
  },
  {
   "cell_type": "code",
   "execution_count": 53,
   "metadata": {},
   "outputs": [
    {
     "name": "stdout",
     "output_type": "stream",
     "text": [
      "+-------+-----------------------------------------+----------------------------------+\n",
      "|movieId|title                                    |genres                            |\n",
      "+-------+-----------------------------------------+----------------------------------+\n",
      "|6      |Heat (1995)                              |Action|Crime|Thriller             |\n",
      "|9      |Sudden Death (1995)                      |Action                            |\n",
      "|10     |GoldenEye (1995)                         |Action|Adventure|Thriller         |\n",
      "|15     |Cutthroat Island (1995)                  |Action|Adventure|Romance          |\n",
      "|20     |Money Train (1995)                       |Action|Comedy|Crime|Drama|Thriller|\n",
      "|23     |Assassins (1995)                         |Action|Crime|Thriller             |\n",
      "|42     |Dead Presidents (1995)                   |Action|Crime|Drama                |\n",
      "|44     |Mortal Kombat (1995)                     |Action|Adventure|Fantasy          |\n",
      "|66     |Lawnmower Man 2: Beyond Cyberspace (1996)|Action|Sci-Fi|Thriller            |\n",
      "|70     |From Dusk Till Dawn (1996)               |Action|Comedy|Horror|Thriller     |\n",
      "+-------+-----------------------------------------+----------------------------------+\n",
      "only showing top 10 rows\n",
      "\n"
     ]
    }
   ],
   "source": [
    "movies.where(\"genres like '%Action%'\").show(10, truncate=False)"
   ]
  },
  {
   "cell_type": "code",
   "execution_count": 54,
   "metadata": {},
   "outputs": [
    {
     "name": "stdout",
     "output_type": "stream",
     "text": [
      "+-------+--------------------+--------------------+--------------------+---------+\n",
      "|movieId|               title|              genres|        genres_array|    genre|\n",
      "+-------+--------------------+--------------------+--------------------+---------+\n",
      "|      1|    Toy Story (1995)|Adventure|Animati...|[Adventure, Anima...|Adventure|\n",
      "|      1|    Toy Story (1995)|Adventure|Animati...|[Adventure, Anima...|Animation|\n",
      "|      1|    Toy Story (1995)|Adventure|Animati...|[Adventure, Anima...| Children|\n",
      "|      1|    Toy Story (1995)|Adventure|Animati...|[Adventure, Anima...|   Comedy|\n",
      "|      1|    Toy Story (1995)|Adventure|Animati...|[Adventure, Anima...|  Fantasy|\n",
      "|      2|      Jumanji (1995)|Adventure|Childre...|[Adventure, Child...|Adventure|\n",
      "|      2|      Jumanji (1995)|Adventure|Childre...|[Adventure, Child...| Children|\n",
      "|      2|      Jumanji (1995)|Adventure|Childre...|[Adventure, Child...|  Fantasy|\n",
      "|      3|Grumpier Old Men ...|      Comedy|Romance|   [Comedy, Romance]|   Comedy|\n",
      "|      3|Grumpier Old Men ...|      Comedy|Romance|   [Comedy, Romance]|  Romance|\n",
      "|      4|Waiting to Exhale...|Comedy|Drama|Romance|[Comedy, Drama, R...|   Comedy|\n",
      "|      4|Waiting to Exhale...|Comedy|Drama|Romance|[Comedy, Drama, R...|    Drama|\n",
      "|      4|Waiting to Exhale...|Comedy|Drama|Romance|[Comedy, Drama, R...|  Romance|\n",
      "|      5|Father of the Bri...|              Comedy|            [Comedy]|   Comedy|\n",
      "|      6|         Heat (1995)|Action|Crime|Thri...|[Action, Crime, T...|   Action|\n",
      "|      6|         Heat (1995)|Action|Crime|Thri...|[Action, Crime, T...|    Crime|\n",
      "|      6|         Heat (1995)|Action|Crime|Thri...|[Action, Crime, T...| Thriller|\n",
      "|      7|      Sabrina (1995)|      Comedy|Romance|   [Comedy, Romance]|   Comedy|\n",
      "|      7|      Sabrina (1995)|      Comedy|Romance|   [Comedy, Romance]|  Romance|\n",
      "|      8| Tom and Huck (1995)|  Adventure|Children|[Adventure, Child...|Adventure|\n",
      "+-------+--------------------+--------------------+--------------------+---------+\n",
      "only showing top 20 rows\n",
      "\n"
     ]
    }
   ],
   "source": [
    "movie_genres = movies.withColumn(\"genres_array\", f.split(\"genres\", \"\\|\"))\\\n",
    "                      .withColumn(\"genre\", f.explode(\"genres_array\"))\n",
    "movie_genres.show()"
   ]
  },
  {
   "cell_type": "code",
   "execution_count": 55,
   "metadata": {},
   "outputs": [
    {
     "name": "stdout",
     "output_type": "stream",
     "text": [
      "+------------------+-----+\n",
      "|             genre|count|\n",
      "+------------------+-----+\n",
      "|             Drama| 4361|\n",
      "|            Comedy| 3756|\n",
      "|          Thriller| 1894|\n",
      "|            Action| 1828|\n",
      "|           Romance| 1596|\n",
      "|         Adventure| 1263|\n",
      "|             Crime| 1199|\n",
      "|            Sci-Fi|  980|\n",
      "|            Horror|  978|\n",
      "|           Fantasy|  779|\n",
      "|          Children|  664|\n",
      "|         Animation|  611|\n",
      "|           Mystery|  573|\n",
      "|       Documentary|  440|\n",
      "|               War|  382|\n",
      "|           Musical|  334|\n",
      "|           Western|  167|\n",
      "|              IMAX|  158|\n",
      "|         Film-Noir|   87|\n",
      "|(no genres listed)|   34|\n",
      "+------------------+-----+\n",
      "\n"
     ]
    }
   ],
   "source": [
    "movie_genres.groupby(\"genre\")\\\n",
    "      .count()\\\n",
    "      .sort(f.col(\"count\").desc())\\\n",
    "      .show()"
   ]
  },
  {
   "cell_type": "code",
   "execution_count": 56,
   "metadata": {},
   "outputs": [
    {
     "name": "stdout",
     "output_type": "stream",
     "text": [
      "+-------+--------------------+------------------+--------------------+------------------+\n",
      "|movieId|               title|            genres|        genres_array|             genre|\n",
      "+-------+--------------------+------------------+--------------------+------------------+\n",
      "| 114335|   La cravate (1957)|(no genres listed)|[(no genres listed)]|(no genres listed)|\n",
      "| 122888|      Ben-hur (2016)|(no genres listed)|[(no genres listed)]|(no genres listed)|\n",
      "| 122896|Pirates of the Ca...|(no genres listed)|[(no genres listed)]|(no genres listed)|\n",
      "| 129250|   Superfast! (2015)|(no genres listed)|[(no genres listed)]|(no genres listed)|\n",
      "| 132084| Let It Be Me (1995)|(no genres listed)|[(no genres listed)]|(no genres listed)|\n",
      "| 134861|Trevor Noah: Afri...|(no genres listed)|[(no genres listed)]|(no genres listed)|\n",
      "| 141131|    Guardians (2016)|(no genres listed)|[(no genres listed)]|(no genres listed)|\n",
      "| 141866|   Green Room (2015)|(no genres listed)|[(no genres listed)]|(no genres listed)|\n",
      "| 142456|The Brand New Tes...|(no genres listed)|[(no genres listed)]|(no genres listed)|\n",
      "| 143410|          Hyena Road|(no genres listed)|[(no genres listed)]|(no genres listed)|\n",
      "| 147250|The Adventures of...|(no genres listed)|[(no genres listed)]|(no genres listed)|\n",
      "| 149330|A Cosmic Christma...|(no genres listed)|[(no genres listed)]|(no genres listed)|\n",
      "| 152037|  Grease Live (2016)|(no genres listed)|[(no genres listed)]|(no genres listed)|\n",
      "| 155589|Noin 7 veljestä (...|(no genres listed)|[(no genres listed)]|(no genres listed)|\n",
      "| 156605|            Paterson|(no genres listed)|[(no genres listed)]|(no genres listed)|\n",
      "| 159161|Ali Wong: Baby Co...|(no genres listed)|[(no genres listed)]|(no genres listed)|\n",
      "| 159779|A Midsummer Night...|(no genres listed)|[(no genres listed)]|(no genres listed)|\n",
      "| 161008|The Forbidden Dan...|(no genres listed)|[(no genres listed)]|(no genres listed)|\n",
      "| 165489|Ethel & Ernest (2...|(no genres listed)|[(no genres listed)]|(no genres listed)|\n",
      "| 166024|     Whiplash (2013)|(no genres listed)|[(no genres listed)]|(no genres listed)|\n",
      "| 167570|              The OA|(no genres listed)|[(no genres listed)]|(no genres listed)|\n",
      "| 169034|     Lemonade (2016)|(no genres listed)|[(no genres listed)]|(no genres listed)|\n",
      "| 171495|              Cosmos|(no genres listed)|[(no genres listed)]|(no genres listed)|\n",
      "| 171631|Maria Bamford: Ol...|(no genres listed)|[(no genres listed)]|(no genres listed)|\n",
      "| 171749|Death Note: Desu ...|(no genres listed)|[(no genres listed)]|(no genres listed)|\n",
      "| 171891|   Generation Iron 2|(no genres listed)|[(no genres listed)]|(no genres listed)|\n",
      "| 172497|T2 3-D: Battle Ac...|(no genres listed)|[(no genres listed)]|(no genres listed)|\n",
      "| 172591|The Godfather Tri...|(no genres listed)|[(no genres listed)]|(no genres listed)|\n",
      "| 173535|The Adventures of...|(no genres listed)|[(no genres listed)]|(no genres listed)|\n",
      "| 174403|The Putin Intervi...|(no genres listed)|[(no genres listed)]|(no genres listed)|\n",
      "| 176601|        Black Mirror|(no genres listed)|[(no genres listed)]|(no genres listed)|\n",
      "| 181413|Too Funny to Fail...|(no genres listed)|[(no genres listed)]|(no genres listed)|\n",
      "| 181719|Serving in Silenc...|(no genres listed)|[(no genres listed)]|(no genres listed)|\n",
      "| 182727|A Christmas Story...|(no genres listed)|[(no genres listed)]|(no genres listed)|\n",
      "+-------+--------------------+------------------+--------------------+------------------+\n",
      "\n"
     ]
    }
   ],
   "source": [
    "movie_genres.where(\"genre == '(no genres listed)'\").show(35)"
   ]
  },
  {
   "cell_type": "code",
   "execution_count": 57,
   "metadata": {
    "scrolled": false
   },
   "outputs": [
    {
     "name": "stdout",
     "output_type": "stream",
     "text": [
      "+-------+--------+-----------+-----------+------------------+-------------------+-------------------+\n",
      "|movieId|count(1)|min(rating)|max(rating)|       avg(rating)|     min(timestamp)|     max(timestamp)|\n",
      "+-------+--------+-----------+-----------+------------------+-------------------+-------------------+\n",
      "|   1580|     165|        0.5|        5.0| 3.487878787878788|1997-07-07 13:07:18|2018-07-22 14:30:52|\n",
      "|   2366|      25|        1.5|        5.0|              3.64|1999-11-04 15:23:49|2018-02-20 10:20:35|\n",
      "|   3175|      75|        1.0|        5.0|              3.58|1999-12-26 14:01:31|2018-06-25 06:07:19|\n",
      "|   1088|      42|        1.0|        5.0| 3.369047619047619|1997-04-07 08:36:08|2018-01-17 01:52:47|\n",
      "|  32460|       4|        3.5|        5.0|              4.25|2011-12-18 19:21:21|2017-04-21 21:12:30|\n",
      "|  44022|      23|        1.0|        4.5| 3.217391304347826|2006-10-25 19:02:59|2018-03-07 07:38:56|\n",
      "|  96488|       4|        4.0|        4.5|              4.25|2014-11-08 16:17:07|2018-04-02 00:12:59|\n",
      "|   1238|       9|        3.0|        5.0| 4.055555555555555|1997-05-30 22:00:50|2013-06-02 00:27:29|\n",
      "|   1342|      11|        1.0|        4.0|               2.5|2000-08-08 04:22:32|2017-06-26 23:39:33|\n",
      "|   1591|      26|        1.0|        5.0|2.6346153846153846|1999-11-18 17:37:57|2018-08-01 09:54:59|\n",
      "|   1645|      51|        1.0|        5.0| 3.411764705882353|1998-07-19 19:13:09|2018-07-03 19:11:25|\n",
      "|   4519|       9|        2.0|        4.0|3.3333333333333335|2001-10-30 02:35:47|2018-02-20 11:15:27|\n",
      "|   2142|      10|        1.0|        3.5|               2.7|2000-07-04 05:39:29|2017-02-24 17:19:18|\n",
      "|    471|      40|        1.0|        5.0|              3.55|1996-05-18 21:07:38|2017-06-27 00:13:42|\n",
      "|   3997|      12|        0.5|        3.0|1.8333333333333333|2001-06-18 16:38:21|2017-06-26 19:45:02|\n",
      "|    833|       6|        0.5|        4.0|               2.0|1996-11-05 19:11:20|2018-02-22 20:07:09|\n",
      "|   3918|       9|        1.0|        5.0|3.2777777777777777|2000-10-11 15:17:15|2009-07-23 08:53:13|\n",
      "|   7982|       4|        0.5|        4.5|              3.25|2005-02-21 01:51:26|2017-06-26 19:22:29|\n",
      "|   1959|      15|        3.0|        5.0|3.6666666666666665|1999-11-03 14:40:06|2018-02-20 15:13:54|\n",
      "|  68135|      10|        2.5|        4.5|              3.55|2009-05-09 00:08:40|2018-02-09 17:53:00|\n",
      "+-------+--------+-----------+-----------+------------------+-------------------+-------------------+\n",
      "only showing top 20 rows\n",
      "\n"
     ]
    }
   ],
   "source": [
    "ratings.groupBy(\"movieId\").agg(\n",
    "    f.count(\"*\"),\n",
    "    f.min(\"rating\"),\n",
    "    f.max(\"rating\"),\n",
    "    f.avg(\"rating\"),\n",
    "    f.min(\"timestamp\"),\n",
    "    f.max(\"timestamp\")\n",
    ").show()"
   ]
  },
  {
   "cell_type": "code",
   "execution_count": 60,
   "metadata": {},
   "outputs": [
    {
     "name": "stdout",
     "output_type": "stream",
     "text": [
      "+------+--------------------+--------+------------------+--------------+--------------+\n",
      "|userId|            movieIds|count(1)|       avg(rating)|minumum rating|maximum rating|\n",
      "+------+--------------------+--------+------------------+--------------+--------------+\n",
      "|   148|[356, 76093, 1228...|      48|3.7395833333333335|           1.5|           5.0|\n",
      "|   463|[3753, 356, 110, ...|      33| 3.787878787878788|           2.0|           5.0|\n",
      "|   471|[356, 1, 92259, 1...|      28|             3.875|           2.0|           5.0|\n",
      "|   496|[7151, 1221, 4191...|      29| 3.413793103448276|           1.0|           5.0|\n",
      "|   243|[161, 356, 466, 1...|      36| 4.138888888888889|           3.0|           5.0|\n",
      "|   392|[1221, 1127, 3298...|      25|               3.2|           1.0|           5.0|\n",
      "|   540|[589, 2107, 2841,...|      42|               4.0|           2.0|           5.0|\n",
      "|    31|[1, 1200, 612, 12...|      50|              3.92|           1.0|           5.0|\n",
      "|   516|[4306, 4429, 4349...|      26|3.6923076923076925|           2.0|           5.0|\n",
      "|    85|[538, 1446, 1730,...|      34|3.7058823529411766|           1.0|           5.0|\n",
      "|   137|[356, 1953, 1301,...|     141| 3.978723404255319|           2.0|           5.0|\n",
      "|   251|[356, 293, 111, 1...|      23| 4.869565217391305|           2.5|           5.0|\n",
      "|   451|[661, 1, 32, 481,...|      34|3.7941176470588234|           1.0|           5.0|\n",
      "|   580|[3681, 356, 2186,...|     436| 3.529816513761468|           0.5|           5.0|\n",
      "|    65|[7153, 7458, 1117...|      34| 4.029411764705882|           3.0|           5.0|\n",
      "|   458|[356, 589, 539, 2...|      59|4.1525423728813555|           2.0|           5.0|\n",
      "|    53|[1256, 748, 880, ...|      20|               5.0|           5.0|           5.0|\n",
      "|   255|[1220, 2542, 2716...|      44|2.5681818181818183|           1.0|           5.0|\n",
      "|   481|[1729, 1629, 1672...|      31| 2.806451612903226|           1.0|           5.0|\n",
      "|   588|[161, 356, 589, 2...|      56|              3.25|           1.0|           5.0|\n",
      "+------+--------------------+--------+------------------+--------------+--------------+\n",
      "only showing top 20 rows\n",
      "\n"
     ]
    }
   ],
   "source": [
    "ratings.groupBy(\"userId\").agg(\n",
    "    f.collect_set(\"movieId\").alias(\"movieIds\"),\n",
    "    f.count(\"*\"),\n",
    "    f.avg(\"rating\"),\n",
    "    f.min(\"rating\").alias(\"minumum rating\"),\n",
    "    f.max(\"rating\").alias(\"maximum rating\")\n",
    ").show()"
   ]
  },
  {
   "cell_type": "markdown",
   "metadata": {},
   "source": [
    "### if you don't have a indexed movieID, use StringIndexer to change the movie names into indexes"
   ]
  },
  {
   "cell_type": "markdown",
   "metadata": {},
   "source": [
    "# Build Model and Fit"
   ]
  },
  {
   "cell_type": "code",
   "execution_count": 74,
   "metadata": {},
   "outputs": [],
   "source": [
    "from pyspark.ml.recommendation import ALS\n",
    "\n",
    "#split data into training and test set\n",
    "training, test = ratings.randomSplit([0.8, 0.2])\n",
    "\n",
    "\n",
    "als = ALS(maxIter=5, regParam=0.01, userCol=\"userId\", itemCol=\"movieId\", ratingCol=\"rating\",\n",
    "                    coldStartStrategy=\"drop\")"
   ]
  },
  {
   "cell_type": "code",
   "execution_count": 75,
   "metadata": {},
   "outputs": [],
   "source": [
    "alsModel = als.fit(training)\n",
    "predictions = alsModel.transform(test)"
   ]
  },
  {
   "cell_type": "markdown",
   "metadata": {},
   "source": [
    "ALS effectively predicted the ratings that a user would give for a particular movie"
   ]
  },
  {
   "cell_type": "code",
   "execution_count": 76,
   "metadata": {},
   "outputs": [
    {
     "name": "stdout",
     "output_type": "stream",
     "text": [
      "+------+-------+------+-------------------+----------+\n",
      "|userId|movieId|rating|          timestamp|prediction|\n",
      "+------+-------+------+-------------------+----------+\n",
      "|   436|    471|   3.0|1996-05-31 09:09:47|   3.98593|\n",
      "|   218|    471|   4.0|2005-03-24 00:41:14|  2.101538|\n",
      "|   500|    471|   1.0|2001-11-12 01:20:17|  2.372246|\n",
      "|    57|    471|   3.0|2000-09-24 01:00:04| 3.8274581|\n",
      "|   555|    471|   3.0|2001-01-06 02:08:53| 4.7445965|\n",
      "|   312|    471|   4.0|2003-01-21 18:59:24| 3.4206297|\n",
      "|   216|    471|   3.0|2000-11-26 04:24:01| 3.7141562|\n",
      "|   373|    471|   5.0|1996-11-01 06:39:48|  3.665931|\n",
      "|   104|    471|   4.5|2009-03-26 23:45:29| 3.9492128|\n",
      "|    44|    833|   2.0|1997-07-18 19:57:17| 3.4144633|\n",
      "+------+-------+------+-------------------+----------+\n",
      "only showing top 10 rows\n",
      "\n"
     ]
    }
   ],
   "source": [
    "predictions.show(10)"
   ]
  },
  {
   "cell_type": "markdown",
   "metadata": {},
   "source": [
    "# Evaluate"
   ]
  },
  {
   "cell_type": "markdown",
   "metadata": {},
   "source": [
    "When covering the cold-start strategy, we can set up an automatic model evaluator when working with ALS. One thing that may not be immediately obvious is that this recommendation problem is really just a kind of regression problem. Since we’re predicting values (ratings) for given users, we want to optimize for reducing the total difference between our users’ ratings and the true values. We can do this using the RegressionEvaluator."
   ]
  },
  {
   "cell_type": "code",
   "execution_count": 78,
   "metadata": {},
   "outputs": [
    {
     "name": "stdout",
     "output_type": "stream",
     "text": [
      "Root-mean-square error = 1.077731\n"
     ]
    }
   ],
   "source": [
    "# in Python\n",
    "from pyspark.ml.evaluation import RegressionEvaluator\n",
    "evaluator = RegressionEvaluator()\\\n",
    "              .setMetricName(\"rmse\")\\\n",
    "              .setLabelCol(\"rating\")\\\n",
    "              .setPredictionCol(\"prediction\")\n",
    "\n",
    "rmse = evaluator.evaluate(predictions.na.drop())\n",
    "print(\"Root-mean-square error = %f\" % rmse)"
   ]
  },
  {
   "cell_type": "markdown",
   "metadata": {},
   "source": [
    "This error isn't the best! The model can be improvied further by tuning the hyperparameters"
   ]
  },
  {
   "cell_type": "code",
   "execution_count": null,
   "metadata": {},
   "outputs": [],
   "source": []
  },
  {
   "cell_type": "code",
   "execution_count": null,
   "metadata": {},
   "outputs": [],
   "source": []
  },
  {
   "cell_type": "markdown",
   "metadata": {},
   "source": [
    "# CV + GRIDSEARCH"
   ]
  },
  {
   "cell_type": "code",
   "execution_count": 79,
   "metadata": {},
   "outputs": [],
   "source": [
    "from pyspark.ml.tuning import CrossValidator, ParamGridBuilder\n",
    "\n",
    "parameter_grid = (\n",
    "    ParamGridBuilder()\n",
    "    .addGrid(als.rank, [1, 5, 10])\n",
    "    .addGrid(als.maxIter, [20])\n",
    "    .addGrid(als.regParam, [0.05, 0.1])\n",
    "    .build()\n",
    ")"
   ]
  },
  {
   "cell_type": "code",
   "execution_count": 81,
   "metadata": {},
   "outputs": [],
   "source": [
    "crossvalidator = CrossValidator(\n",
    "    estimator=als,\n",
    "    estimatorParamMaps=parameter_grid,\n",
    "    evaluator=evaluator,\n",
    "    numFolds=2,\n",
    ")\n",
    "\n",
    "crossval_model = crossvalidator.fit(training)\n",
    "predictions = crossval_model.transform(test)\n"
   ]
  },
  {
   "cell_type": "code",
   "execution_count": 82,
   "metadata": {},
   "outputs": [
    {
     "name": "stdout",
     "output_type": "stream",
     "text": [
      "0.8777585752789658\n"
     ]
    }
   ],
   "source": [
    "rmse = evaluator.evaluate(predictions.na.drop())\n",
    "print(rmse)"
   ]
  },
  {
   "cell_type": "markdown",
   "metadata": {},
   "source": [
    "much better!"
   ]
  },
  {
   "cell_type": "code",
   "execution_count": 83,
   "metadata": {},
   "outputs": [],
   "source": [
    "alsModel = crossval_model.bestModel"
   ]
  },
  {
   "cell_type": "code",
   "execution_count": null,
   "metadata": {},
   "outputs": [],
   "source": []
  },
  {
   "cell_type": "markdown",
   "metadata": {},
   "source": [
    "# Recommendation Results"
   ]
  },
  {
   "cell_type": "markdown",
   "metadata": {},
   "source": [
    "We can now output the top 𝘬 recommendations for each user or movie. The model’s recommendForAllUsers method returns a DataFrame of a userId, an array of recommendations, as well as a rating for each of those movies. recommendForAllItems returns a DataFrame of a movieID, as well as the top users for that movie:"
   ]
  },
  {
   "cell_type": "code",
   "execution_count": 84,
   "metadata": {},
   "outputs": [
    {
     "name": "stdout",
     "output_type": "stream",
     "text": [
      "+------+------------------+\n",
      "|userId|               col|\n",
      "+------+------------------+\n",
      "|   471|[89904, 5.0465307]|\n",
      "|   471| [96004, 4.944986]|\n",
      "|   471|  [7008, 4.784727]|\n",
      "|   471|  [6461, 4.772862]|\n",
      "|   471|  [7767, 4.708182]|\n",
      "+------+------------------+\n",
      "only showing top 5 rows\n",
      "\n",
      "+-------+----------------+\n",
      "|movieID|             col|\n",
      "+-------+----------------+\n",
      "|   1580|   [53, 5.04259]|\n",
      "|   1580| [543, 4.742526]|\n",
      "|   1580| [276, 4.728681]|\n",
      "|   1580| [452, 4.611367]|\n",
      "|   1580|[243, 4.5599465]|\n",
      "+-------+----------------+\n",
      "only showing top 5 rows\n",
      "\n"
     ]
    }
   ],
   "source": [
    "from pyspark.sql.functions import col\n",
    "\n",
    "# generate top 10 movie recs for each user\n",
    "alsModel.recommendForAllUsers(10)\\\n",
    "  .selectExpr(\"userId\", \"explode(recommendations)\").show(5)\n",
    "\n",
    "# generate top 10 user recommendations for each movie \n",
    "alsModel.recommendForAllItems(10)\\\n",
    "  .selectExpr(\"movieID\", \"explode(recommendations)\").show(5)"
   ]
  },
  {
   "cell_type": "markdown",
   "metadata": {},
   "source": [
    "### select test user"
   ]
  },
  {
   "cell_type": "code",
   "execution_count": 90,
   "metadata": {},
   "outputs": [
    {
     "name": "stdout",
     "output_type": "stream",
     "text": [
      "+------+------------------------------------------------------------------------------+------+\n",
      "|userId|title                                                                         |rating|\n",
      "+------+------------------------------------------------------------------------------+------+\n",
      "|78    |Terminator, The (1984)                                                        |5.0   |\n",
      "|78    |Die Hard (1988)                                                               |5.0   |\n",
      "|78    |Airplane! (1980)                                                              |5.0   |\n",
      "|78    |Ghostbusters (a.k.a. Ghost Busters) (1984)                                    |4.5   |\n",
      "|78    |Dodgeball: A True Underdog Story (2004)                                       |4.5   |\n",
      "|78    |Terminator 2: Judgment Day (1991)                                             |4.5   |\n",
      "|78    |Raiders of the Lost Ark (Indiana Jones and the Raiders of the Lost Ark) (1981)|4.5   |\n",
      "|78    |Matrix, The (1999)                                                            |4.5   |\n",
      "|78    |Naked Gun: From the Files of Police Squad!, The (1988)                        |4.5   |\n",
      "|78    |Shawshank Redemption, The (1994)                                              |4.5   |\n",
      "|78    |Pulp Fiction (1994)                                                           |4.0   |\n",
      "|78    |Toy Story (1995)                                                              |4.0   |\n",
      "|78    |Ace Ventura: Pet Detective (1994)                                             |4.0   |\n",
      "|78    |Apollo 13 (1995)                                                              |4.0   |\n",
      "|78    |Die Hard 2 (1990)                                                             |4.0   |\n",
      "|78    |Naked Gun 33 1/3: The Final Insult (1994)                                     |4.0   |\n",
      "|78    |True Lies (1994)                                                              |4.0   |\n",
      "|78    |Back to the Future (1985)                                                     |4.0   |\n",
      "|78    |Con Air (1997)                                                                |4.0   |\n",
      "|78    |Jurassic Park (1993)                                                          |4.0   |\n",
      "+------+------------------------------------------------------------------------------+------+\n",
      "only showing top 20 rows\n",
      "\n"
     ]
    }
   ],
   "source": [
    "test_userId = 78\n",
    "\n",
    "test_user = ratings.filter(ratings['userId'] == test_userId)\n",
    "\n",
    "joinExpression = test_user[\"movieID\"] == movie_names['movieID']\n",
    "joinType = 'left'\n",
    "\n",
    "test_user_profile = test_user.join(movie_names, joinExpression, joinType)\\\n",
    " .orderBy('rating', ascending = False)\n",
    "\n",
    "test_user_profile.select(\"userId\", \"title\", \"rating\").show(truncate = False)"
   ]
  },
  {
   "cell_type": "code",
   "execution_count": 86,
   "metadata": {},
   "outputs": [],
   "source": [
    "unique_movies = movies.select(\"title\").distinct()\n",
    "\n",
    "\n",
    "movies_read = test_user_profile.select(\"title\").distinct()\n"
   ]
  },
  {
   "cell_type": "markdown",
   "metadata": {},
   "source": [
    "### filter for recommendation results and join with movie names"
   ]
  },
  {
   "cell_type": "code",
   "execution_count": 91,
   "metadata": {},
   "outputs": [],
   "source": [
    "userRecs = alsModel.recommendForAllUsers(10)\n",
    "\n",
    "test_userRecs = userRecs.filter(userRecs['userId'] == test_userId)\\\n",
    "                    .selectExpr(\"userId\", \"explode(recommendations)\")\n",
    "\n",
    "test_userRecs = test_userRecs.select(\"userId\", 'col.*')"
   ]
  },
  {
   "cell_type": "code",
   "execution_count": 92,
   "metadata": {
    "lines_to_next_cell": 0
   },
   "outputs": [
    {
     "name": "stdout",
     "output_type": "stream",
     "text": [
      "+-------------------------------------------------------+---------+\n",
      "|title                                                  |rating   |\n",
      "+-------------------------------------------------------+---------+\n",
      "|Dune (2000)                                            |4.9018517|\n",
      "|Last Detail, The (1973)                                |4.807784 |\n",
      "|Isle of Dogs (2018)                                    |4.786659 |\n",
      "|Come and See (Idi i smotri) (1985)                     |4.7452154|\n",
      "|Bossa Nova (2000)                                      |4.555276 |\n",
      "|My Wife is an Actress (Ma Femme est une Actrice) (2001)|4.5537047|\n",
      "|Strictly Sexual (2008)                                 |4.379389 |\n",
      "|8 Heads in a Duffel Bag (1997)                         |4.349611 |\n",
      "|Band of Brothers (2001)                                |4.328229 |\n",
      "|World of Tomorrow (2015)                               |4.3272247|\n",
      "+-------------------------------------------------------+---------+\n",
      "\n"
     ]
    }
   ],
   "source": [
    "joinExpression = test_userRecs[\"movieID\"] == movie_names['movieID']\n",
    "joinType = \"inner\"\n",
    "\n",
    "recommended_movies = test_userRecs.join(movie_names, joinExpression, joinType)\n",
    "\n",
    "recommended_movies.select(\"title\", \"rating\").show(truncate = False)"
   ]
  },
  {
   "cell_type": "code",
   "execution_count": null,
   "metadata": {
    "lines_to_next_cell": 2
   },
   "outputs": [],
   "source": []
  },
  {
   "cell_type": "markdown",
   "metadata": {},
   "source": [
    "### can also find top users for a given movie"
   ]
  },
  {
   "cell_type": "code",
   "execution_count": 93,
   "metadata": {
    "lines_to_next_cell": 2
   },
   "outputs": [
    {
     "name": "stdout",
     "output_type": "stream",
     "text": [
      "+-------+--------------------+------+\n",
      "|movieID|               title|genres|\n",
      "+-------+--------------------+------+\n",
      "|    177|Lord of Illusions...|Horror|\n",
      "+-------+--------------------+------+\n",
      "\n"
     ]
    }
   ],
   "source": [
    "test_movieID = 177\n",
    "\n",
    "movie_names.filter(movie_names['movieID'] == test_movieID).show()"
   ]
  },
  {
   "cell_type": "code",
   "execution_count": 94,
   "metadata": {
    "lines_to_next_cell": 0
   },
   "outputs": [
    {
     "name": "stdout",
     "output_type": "stream",
     "text": [
      "+-------+------+---------+\n",
      "|movieID|userId|   rating|\n",
      "+-------+------+---------+\n",
      "|    177|    22| 4.879172|\n",
      "|    177|   175|4.4150743|\n",
      "|    177|    15| 4.411814|\n",
      "|    177|   115| 4.331586|\n",
      "|    177|   244| 4.330542|\n",
      "|    177|    90| 4.284384|\n",
      "|    177|   572| 4.126728|\n",
      "|    177|    42| 4.096353|\n",
      "|    177|   310| 4.090833|\n",
      "|    177|   528|4.0833664|\n",
      "+-------+------+---------+\n",
      "\n"
     ]
    }
   ],
   "source": [
    "movieRecs = alsModel.recommendForAllItems(10)\\\n",
    "                    .selectExpr(\"movieID\", \"explode(recommendations)\")\n",
    "\n",
    "test_movieRec = movieRecs.filter(movieRecs['movieID'] == test_movieID)\\\n",
    "                        .select(\"movieID\", \"col.*\")\n",
    "\n",
    "test_movieRec.show()"
   ]
  },
  {
   "cell_type": "code",
   "execution_count": 98,
   "metadata": {
    "lines_to_next_cell": 2
   },
   "outputs": [
    {
     "name": "stdout",
     "output_type": "stream",
     "text": [
      "+-------+------+---------+\n",
      "|movieID|userId|   rating|\n",
      "+-------+------+---------+\n",
      "|    177|    22| 4.879172|\n",
      "|    177|   175|4.4150743|\n",
      "|    177|    15| 4.411814|\n",
      "|    177|   115| 4.331586|\n",
      "|    177|   244| 4.330542|\n",
      "|    177|    90| 4.284384|\n",
      "|    177|   572| 4.126728|\n",
      "|    177|    42| 4.096353|\n",
      "|    177|   310| 4.090833|\n",
      "|    177|   528|4.0833664|\n",
      "+-------+------+---------+\n",
      "\n"
     ]
    }
   ],
   "source": [
    "test_movieRec.join(ratings, ['movieID', 'userId'], how='leftanti').show()"
   ]
  },
  {
   "cell_type": "markdown",
   "metadata": {},
   "source": [
    "# Further evaluation metrics"
   ]
  },
  {
   "cell_type": "markdown",
   "metadata": {},
   "source": [
    "A RankingMetric allows us to compare our recommendations with an actual set of ratings (or preferences) expressed by a given user. RankingMetric does not focus on the value of the rank but rather whether or not our algorithm recommends an already ranked item again to a user. \n",
    "\n",
    "First, we need to collect a set of highly ranked movies for a given user. In our case, we’re going to use a rather low threshold: movies ranked above 2.5. Tuning this value will largely be a business decision:"
   ]
  },
  {
   "cell_type": "code",
   "execution_count": null,
   "metadata": {},
   "outputs": [],
   "source": [
    "# in Python\n",
    "from pyspark.mllib.evaluation import RankingMetrics, RegressionMetrics\n",
    "from pyspark.sql.functions import col, expr\n",
    "perUserActual = predictions\\\n",
    "  .where(\"rating > 2.5\")\\\n",
    "  .groupBy(\"userId\")\\\n",
    "  .agg(expr(\"collect_set(movieID) as movies\"))"
   ]
  },
  {
   "cell_type": "markdown",
   "metadata": {},
   "source": [
    "At this point, we have a collection of users, along with a truth set of previously ranked movies for each user. Now we will get our top 10 recommendations from our algorithm on a per-user basis. We will then see if the top 10 recommendations show up in our truth set. If we have a well-trained model, it will correctly recommend the movies a user already liked. If it doesn’t, it may not have learned enough about each particular user to successfully reflect their preferences:"
   ]
  },
  {
   "cell_type": "code",
   "execution_count": null,
   "metadata": {},
   "outputs": [],
   "source": [
    "perUserPredictions = predictions\\\n",
    "  .orderBy(col(\"userId\"), expr(\"prediction DESC\"))\\\n",
    "  .groupBy(\"userId\")\\\n",
    "  .agg(expr(\"collect_list(movieID) as movies\"))"
   ]
  },
  {
   "cell_type": "markdown",
   "metadata": {},
   "source": [
    "Now we have two DataFrames, one of predictions and another the top-ranked items for a particular user. We can pass them into the RankingMetrics object. This object accepts an RDD of these combinations, as you can see in the following join and RDD conversion:"
   ]
  },
  {
   "cell_type": "code",
   "execution_count": null,
   "metadata": {},
   "outputs": [],
   "source": [
    "# in Python\n",
    "perUserActualvPred = perUserActual.join(perUserPredictions, [\"userId\"]).rdd\\\n",
    "  .map(lambda row: (row[1], row[2][:15]))\n",
    "ranks = RankingMetrics(perUserActualvPred)"
   ]
  },
  {
   "cell_type": "markdown",
   "metadata": {},
   "source": [
    "Now we can see the metrics from that ranking. For instance, we can see how precise our algorithm is with the mean average precision. We can also get the precision at certain ranking points, for instance, to see where the majority of the positive recommendations fall:"
   ]
  },
  {
   "cell_type": "code",
   "execution_count": null,
   "metadata": {},
   "outputs": [],
   "source": [
    "ranks.meanAveragePrecision\n",
    "ranks.precisionAt(5)"
   ]
  },
  {
   "cell_type": "code",
   "execution_count": null,
   "metadata": {},
   "outputs": [],
   "source": []
  }
 ],
 "metadata": {
  "jupytext": {
   "encoding": "# -*- coding: utf-8 -*-",
   "formats": "ipynb,py:light",
   "text_representation": {
    "extension": ".py",
    "format_name": "light",
    "format_version": "1.5",
    "jupytext_version": "1.3.2"
   }
  },
  "kernelspec": {
   "display_name": "Python 3",
   "language": "python",
   "name": "python3"
  },
  "language_info": {
   "codemirror_mode": {
    "name": "ipython",
    "version": 3
   },
   "file_extension": ".py",
   "mimetype": "text/x-python",
   "name": "python",
   "nbconvert_exporter": "python",
   "pygments_lexer": "ipython3",
   "version": "3.7.4"
  }
 },
 "nbformat": 4,
 "nbformat_minor": 2
}
